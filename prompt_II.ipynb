{
 "cells": [
  {
   "cell_type": "markdown",
   "metadata": {},
   "source": [
    "    # What drives the price of a car?\n",
    "\n",
    "![](images/kurt.jpeg)"
   ]
  },
  {
   "cell_type": "markdown",
   "metadata": {},
   "source": [
    "**OVERVIEW**\n",
    "\n",
    "In this application, you will explore a dataset from Kaggle. The original dataset contained information on 3 million used cars. The provided dataset contains information on 426K cars to ensure speed of processing.  Your goal is to understand what factors make a car more or less expensive.  As a result of your analysis, you should provide clear recommendations to your client -- a used car dealership -- as to what consumers value in a used car."
   ]
  },
  {
   "cell_type": "markdown",
   "metadata": {},
   "source": [
    "### CRISP-DM Framework\n",
    "\n",
    "<center>\n",
    "    <img src = images/crisp.png width = 50%/>\n",
    "</center>\n",
    "\n",
    "\n",
    "To frame the task, throughout our practical applications, we will refer back to a standard process in industry for data projects called CRISP-DM.  This process provides a framework for working through a data problem.  Your first step in this application will be to read through a brief overview of CRISP-DM [here](https://mo-pcco.s3.us-east-1.amazonaws.com/BH-PCMLAI/module_11/readings_starter.zip).  After reading the overview, answer the questions below."
   ]
  },
  {
   "cell_type": "markdown",
   "metadata": {},
   "source": [
    "### Business Understanding\n",
    "\n",
    "From a business perspective, we are tasked with identifying key drivers for used car prices.  In the CRISP-DM overview, we are asked to convert this business framing to a data problem definition.  Using a few sentences, reframe the task as a data task with the appropriate technical vocabulary."
   ]
  },
  {
   "metadata": {},
   "cell_type": "markdown",
   "source": "Given that our stakeholders are seeking to understand what factors drive the price of a used car then their goal is to improve their sales and meet market demand. They have provided as a dataset of used car sales and have asked us to determine which factors make a car more or less expensive. A recent [report](https://www.statista.com/statistics/183713/value-of-us-passenger-cas-sales-and-leases-since-1990/) shows that used car sales doubles the amount of new car sales. The used car market is lucrative with high demand from consumers. Our stakeholder wants to stay ahead of the curve and understanding their customer's preferences can help lead to more sales. Used car dealerships also have to acquire cars for inventory from other entities. If our stakeholder can reasonably determine the cost of a used vehicle they can better understand their margins and when to purchase a vehicle for inventory. It is also important to understand what customers value in used cars. Knowing what drives a consumer to purchase a used vehicle can help our stakeholders avoid costly mistakes when acquiring inventory."
  },
  {
   "cell_type": "markdown",
   "metadata": {},
   "source": [
    "### Data Understanding\n",
    "\n",
    "After considering the business understanding, we want to get familiar with our data.  Write down some steps that you would take to get to know the dataset and identify any quality issues within.  Take time to get to know the dataset and explore what information it contains and how this could be used to inform your business understanding."
   ]
  },
  {
   "metadata": {},
   "cell_type": "code",
   "source": [
    "import os.path\n",
    "\n",
    "import plotly.express as px\n",
    "import plotly.graph_objects as go\n",
    "import pandas as pd\n",
    "import numpy as np\n",
    "\n",
    "from plotly.subplots import make_subplots\n",
    "from sklearn.linear_model import Ridge\n",
    "from sklearn.metrics import mean_squared_error, root_mean_squared_error, mean_absolute_error\n",
    "from sklearn.model_selection import train_test_split, GridSearchCV\n",
    "from sklearn.pipeline import Pipeline\n",
    "from sklearn.preprocessing import StandardScaler, OneHotEncoder, OrdinalEncoder\n",
    "from warnings import filterwarnings\n",
    "\n",
    "filterwarnings('ignore')"
   ],
   "outputs": [],
   "execution_count": null
  },
  {
   "metadata": {},
   "cell_type": "code",
   "source": [
    "# Load data\n",
    "vehicles_df = pd.read_csv('data/vehicles.csv')"
   ],
   "outputs": [],
   "execution_count": null
  },
  {
   "metadata": {},
   "cell_type": "code",
   "source": [
    "# First we should get the basic facts of the data (describe, info, null checks, duplicate checks)\n",
    "vehicles_df.info()"
   ],
   "outputs": [],
   "execution_count": null
  },
  {
   "metadata": {},
   "cell_type": "markdown",
   "source": "The id and VIN column are not important for analysis so we will definitely remove them."
  },
  {
   "cell_type": "code",
   "metadata": {},
   "source": "vehicles_df.describe()",
   "outputs": [],
   "execution_count": null
  },
  {
   "cell_type": "code",
   "metadata": {},
   "source": "vehicles_df.describe(include='object')",
   "outputs": [],
   "execution_count": null
  },
  {
   "metadata": {},
   "cell_type": "code",
   "source": "print(f'Row count: {vehicles_df.shape[0]}, Duplicate count: {vehicles_df.shape[0] - vehicles_df.drop_duplicates().shape[0]}')",
   "outputs": [],
   "execution_count": null
  },
  {
   "cell_type": "code",
   "metadata": {},
   "source": "vehicles_df.isna().mean().round(2)",
   "outputs": [],
   "execution_count": null
  },
  {
   "metadata": {},
   "cell_type": "code",
   "source": "vehicles_df.sample(5)",
   "outputs": [],
   "execution_count": null
  },
  {
   "metadata": {},
   "cell_type": "markdown",
   "source": [
    "Luckily, we do not have duplicates. However, we are missing values, specifically the condition and cylinders attributes are missing in over 40% of rows. Color is missing in 31% of rows. Size is missing in 72% of rows. Drive is missing in 31% of rows. I know that these attributes are important in determining the price of a car from prior analysis. The amount of missing data is concerning and the best course of action may be to impute them. That may mislead our model and we should be wary of that. However, dropping over 40% of the data isn't something we should do. One way to impute this data would be to find a finding an identical year and model then we would select the most seen value for that respective column; we can leverage scipy's `SimpleImputer`. This can help us deduce the missing attributes.\n",
    "\n",
    "I will create an imputed dataset and run my analysis on both of them."
   ]
  },
  {
   "metadata": {},
   "cell_type": "markdown",
   "source": [
    "The imputed vehicle dataframe is looking a lot better.\n",
    "<table>\n",
    "<tr>\n",
    "<th>column</th>\n",
    "<th>old missing value percent</th>\n",
    "<th>new missing value percent</th>\n",
    "</tr>\n",
    "<tr>\n",
    "<td>condition</td>\n",
    "<td>0.41</td>\n",
    "<td>0.09</td>\n",
    "</tr>\n",
    "<tr>\n",
    "<td>condition</td>\n",
    "<td>0.42</td>\n",
    "<td>0.14</td>\n",
    "</tr>\n",
    "<td>drive</td>\n",
    "<td>0.31</td>\n",
    "<td>0.10</td>\n",
    "</tr>\n",
    "</tr>\n",
    "<td>size</td>\n",
    "<td>0.72</td>\n",
    "<td>0.30</td>\n",
    "</tr>\n",
    "</tr>\n",
    "<td>type</td>\n",
    "<td>0.22</td>\n",
    "<td>0.05</td>\n",
    "</tr>\n",
    "</tr>\n",
    "<td>paint_color</td>\n",
    "<td>0.31</td>\n",
    "<td>0.08</td>\n",
    "</tr>\n",
    "</table?\n"
   ]
  },
  {
   "metadata": {},
   "cell_type": "markdown",
   "source": "Let's start by checking a histogram of sales prices"
  },
  {
   "metadata": {},
   "cell_type": "code",
   "source": [
    "fig = px.box(vehicles_df, x='price', title='Price attribute has unrealistic values',\n",
    "                   labels={'price': 'Price', 'count': 'Count'})\n",
    "fig.show()\n",
    "fig.write_image('images/box_amount_with_outliers.png')"
   ],
   "outputs": [],
   "execution_count": null
  },
  {
   "metadata": {},
   "cell_type": "code",
   "source": [
    "fig = px.box(vehicles_df, x='year', labels={'year': 'Year', 'count': 'Count'}, title=\"Most cars sold are 2008 or older models\")\n",
    "fig.show()\n",
    "fig.write_image('images/year_box_with_outliers.png')"
   ],
   "outputs": [],
   "execution_count": null
  },
  {
   "metadata": {},
   "cell_type": "code",
   "source": [
    "# predefine to avoid extra computation\n",
    "groupby_model_year = vehicles_df.groupby(['model', 'year'])\n",
    "fields_to_impute = ['condition', 'cylinders', 'drive', 'size', 'type', 'paint_color']\n",
    "\n",
    "# This somewhat mimics SimpleImputer. If we wanted to get fancy we would use KNN and leverage sales price in imputation\n",
    "def impute_field_by_model_year(row, field_to_update):\n",
    "    # ensure fields are not na and some non na value exists\n",
    "    try:\n",
    "        # take the most common occurrences for model and year\n",
    "        group = groupby_model_year.get_group((row['model'], row['year']))\n",
    "        non_na_values = group[field_to_update].dropna()\n",
    "        if not non_na_values.empty:\n",
    "            return non_na_values.mode().iloc[0]\n",
    "    except KeyError:\n",
    "        return np.nan\n",
    "    return np.nan\n",
    "\n",
    "# Impute once since it can be expensive\n",
    "def load_imputed_data():\n",
    "    if not os.path.exists('data/imputed_vehicles.csv'):\n",
    "        # copy vehicles df and impute columns missing values\n",
    "        imputed_vehicle_df = vehicles_df.copy(deep=True)\n",
    "        for field in fields_to_impute:\n",
    "            na_filter = imputed_vehicle_df[field].isna()\n",
    "            imputed_vehicle_df.loc[na_filter, field] = imputed_vehicle_df[na_filter].apply(lambda row: impute_field_by_model_year(row, field), axis=1)\n",
    "\n",
    "        imputed_vehicle_df.to_csv('data/imputed_vehicles.csv')\n",
    "    else:\n",
    "        imputed_vehicle_df = pd.read_csv('data/imputed_vehicles.csv')\n",
    "    return imputed_vehicle_df\n",
    "\n",
    "imputed_vehicle_df = load_imputed_data()"
   ],
   "outputs": [],
   "execution_count": null
  },
  {
   "metadata": {},
   "cell_type": "code",
   "source": "imputed_vehicle_df.isna().mean().round(2)",
   "outputs": [],
   "execution_count": null
  },
  {
   "metadata": {},
   "cell_type": "markdown",
   "source": "The above is not realistic. We are seeing vehicles selling for billions. I will remove outliers using iqr. We also see very old cars (likely vintage) in the outlier group for year. I will remove those as well."
  },
  {
   "metadata": {},
   "cell_type": "code",
   "source": [
    "q1 = vehicles_df['price'].quantile(0.25)\n",
    "q3 = vehicles_df['price'].quantile(0.75)\n",
    "iqr = q3 - q1\n",
    "lower_bound = q1 - (1.5 * iqr)\n",
    "upper_bound = q3 + (1.5 * iqr)\n",
    "\n",
    "vehicles_df_no_outlier = vehicles_df.query(f'price >= {lower_bound} and price <= {upper_bound} and year > 1995')\n",
    "imputed_vehicle_df = imputed_vehicle_df.query(f'price >= {lower_bound} and price <= {upper_bound} and year > 1995')"
   ],
   "outputs": [],
   "execution_count": null
  },
  {
   "metadata": {},
   "cell_type": "code",
   "source": [
    "# Now we can drop na\n",
    "vehicles_df_no_outlier.dropna(inplace=True)\n",
    "imputed_vehicle_df.dropna(inplace=True)\n",
    "print(vehicles_df_no_outlier.shape[0])\n",
    "print(imputed_vehicle_df.shape[0])"
   ],
   "outputs": [],
   "execution_count": null
  },
  {
   "metadata": {},
   "cell_type": "markdown",
   "source": "After removing outliers & dropping rows with NAs the non imputed dataset contains 33,728 rows and the imputed set contains 148,360. This is out of the original 426,880 rows."
  },
  {
   "metadata": {},
   "cell_type": "code",
   "source": [
    "fig = px.box(vehicles_df_no_outlier, x='price', title='Majority of vehicles fall between &#36;6,500 - &#36;21,990',\n",
    "                   labels={'price': 'Price', 'count': 'Count'})\n",
    "fig.show()\n",
    "fig.write_image('images/box_amount.png')"
   ],
   "outputs": [],
   "execution_count": null
  },
  {
   "metadata": {},
   "cell_type": "code",
   "source": [
    "fig = px.histogram(vehicles_df_no_outlier, x='price', nbins=10, labels={'price': 'Price', 'count': 'Count'}, title=\"A majority of vehicles are bought at a lower price\")\n",
    "fig.show()\n",
    "fig.write_image('images/price_histogram.png')"
   ],
   "outputs": [],
   "execution_count": null
  },
  {
   "metadata": {},
   "cell_type": "code",
   "source": [
    "fig = px.histogram(vehicles_df_no_outlier, x='year', nbins=10, labels={'year': 'Year', 'count': 'Count'}, title=\"Most cars sold are newer\")\n",
    "fig.show()\n",
    "fig.write_image('images/year_histogram.png')"
   ],
   "outputs": [],
   "execution_count": null
  },
  {
   "metadata": {},
   "cell_type": "code",
   "source": [
    "# Univariate analysis with the imputed columns. Compare between non imputed vs imputed\n",
    "fields_to_impute = ['condition', 'cylinders', 'drive', 'size', 'type', 'paint_color']\n",
    "\n",
    "fig = make_subplots(\n",
    "    rows=len(fields_to_impute), cols=2,\n",
    "    subplot_titles=(\"Condition: Good and excellent were sold the most\",\n",
    "                    \"Condition: Imputation increased the amount of excellent vehicles, should be cautious\",\n",
    "                    \"Cylinders: 6, 4 & 8 cylinders sold the most\",\n",
    "                    \"Cylinders: Imputation follows the ratio\",\n",
    "                    \"Drive: 4 wheel drive is the most popular\",\n",
    "                    \"Drive: Imputation follows the ratio\",\n",
    "                    \"Color: White, black and silver make the majority of the sales\",\n",
    "                    \"Color: Imputation follows the ratio\",\n",
    "                    \"Size: Full size is the most popular\",\n",
    "                    \"Size: Imputation follows the ratio\",\n",
    "                    \"Type: Sedan, SUVs and pickups make the majority of the sales\",\n",
    "                    \"Type: Imputation shuffled coupes, hatchbacks, convertibles and mini-vans\",\n",
    "                    )\n",
    ")\n",
    "\n",
    "for i, field in enumerate(sorted(fields_to_impute)):\n",
    "    no_outlier_counts = vehicles_df_no_outlier[field].value_counts()\n",
    "    bar_vehicle_fig = go.Bar(x=no_outlier_counts.index, y=no_outlier_counts)\n",
    "    fig.add_trace(bar_vehicle_fig, row=i+1, col=1)\n",
    "\n",
    "    imputed_counts = imputed_vehicle_df[field].value_counts()\n",
    "    bar_imputed_fig = go.Bar(x=imputed_counts.index, y=imputed_counts)\n",
    "    fig.add_trace(bar_imputed_fig, row=i+1, col=2)\n",
    "\n",
    "fig.update_layout(height=1400, width=1400, showlegend=False)\n",
    "fig.show()\n",
    "fig.write_image('images/imputed_fields_comparison.png')"
   ],
   "outputs": [],
   "execution_count": null
  },
  {
   "metadata": {},
   "cell_type": "markdown",
   "source": "Imputation had some effect on our data. In particular, condition and type shuffled in terms of sales count. This is important because condition is so instrumental in determining sales price and the imputation may affect our model. We saw that type saw impact in the types with lower sales and that may not affect our model. We will create models for both datasets and use metrics to determine if our imputation helped or hurt our cause."
  },
  {
   "metadata": {},
   "cell_type": "code",
   "source": [
    "#Univariate analysis with the non-imputed columns\n",
    "non_altered_columns = list(filter(lambda field: field not in fields_to_impute and field != \"VIN\", list(vehicles_df_no_outlier.select_dtypes(include='object').columns)))\n",
    "fig = make_subplots(\n",
    "    rows=len(non_altered_columns), cols=1,\n",
    "    subplot_titles=(\"Fuel: Gas is the most popular type\",\n",
    "                    \"Manufacturer: Ford, Chevy and Toyota are the most popular manufacturer\",\n",
    "                    \"Model: Preference is scattered. F150 tops. We see normalization of model names was not done (see silverado)\",\n",
    "                    \"Region: Should represent this differently\",\n",
    "                    \"State: Most populous states have most sales as expected. Should represent this differently\",\n",
    "                    \"Title status: Clean title is preferred\",\n",
    "                    \"Transmission: Automatic is the most popular\",\n",
    "                    )\n",
    ")\n",
    "\n",
    "for i, field in enumerate(sorted(non_altered_columns)):\n",
    "    no_outlier_counts = vehicles_df_no_outlier[field].value_counts()\n",
    "    # if a value represent less than 1% of the rows we will put it in the other column\n",
    "    total_counts = no_outlier_counts.sum()\n",
    "    percent_threshold = 0.01 # 1%\n",
    "    other_mask = (no_outlier_counts / total_counts) < percent_threshold\n",
    "    other_sum = no_outlier_counts[other_mask].sum()\n",
    "    no_outlier_counts_filtered = no_outlier_counts[~other_mask]\n",
    "    if 'other' in list(no_outlier_counts_filtered.index):\n",
    "        no_outlier_counts_filtered['other'] = other_sum + no_outlier_counts_filtered['other']\n",
    "    else:\n",
    "        no_outlier_counts_filtered['other'] = other_sum\n",
    "    bar_vehicle_fig = go.Bar(x=no_outlier_counts_filtered.index, y=no_outlier_counts_filtered)\n",
    "    fig.add_trace(bar_vehicle_fig, row=i+1, col=1)\n",
    "\n",
    "fig.update_layout(height=1400, width=1400, showlegend=False)\n",
    "fig.show()\n",
    "fig.write_image('images/univariate_non_imputed_fields_bar.png')"
   ],
   "outputs": [],
   "execution_count": null
  },
  {
   "metadata": {},
   "cell_type": "markdown",
   "source": "The above analysis shows that the region, model and state should be represented differently.\n"
  },
  {
   "metadata": {},
   "cell_type": "code",
   "source": [
    "fig = px.treemap(vehicles_df_no_outlier, path=[px.Constant(\"USA\"), 'state', 'region'], values='price',\n",
    "                  color='price', hover_data=['region'],\n",
    "                  color_continuous_scale='Magma',\n",
    "                  color_continuous_midpoint=np.average(vehicles_df_no_outlier['price']), title='California has highest volume of sales and North Carolina has highest average')\n",
    "fig.show()\n",
    "fig.write_image('images/treemap_no_outlier.png')"
   ],
   "outputs": [],
   "execution_count": null
  },
  {
   "metadata": {},
   "cell_type": "code",
   "source": [
    "fig = px.treemap(imputed_vehicle_df, path=[px.Constant(\"USA\"), 'state', 'region'], values='price',\n",
    "                  color='price', hover_data=['region'],\n",
    "                  color_continuous_scale='Magma',\n",
    "                  color_continuous_midpoint=np.average(imputed_vehicle_df['price']), title='California retains highest volume of sales but now Washington has highest average')\n",
    "fig.show()\n",
    "fig.write_image('images/treemap_imputated.png')"
   ],
   "outputs": [],
   "execution_count": null
  },
  {
   "metadata": {},
   "cell_type": "markdown",
   "source": "With the treemaps we see that the most populated states have the highest volume. However, other states have a higher price average. This could be indicative of different needs in different regions."
  },
  {
   "metadata": {},
   "cell_type": "code",
   "source": [
    "fig = px.treemap(vehicles_df_no_outlier, path=['manufacturer', 'model'], values='price',\n",
    "                  color='price', hover_data=['region'],\n",
    "                  color_continuous_scale='Magma',\n",
    "                  color_continuous_midpoint=np.average(vehicles_df_no_outlier['price']), title='Model does vary by price but the high cardinality of it may be bad for a model')\n",
    "fig.show()\n",
    "fig.write_image('images/treemap_model_no_outlier.png')"
   ],
   "outputs": [],
   "execution_count": null
  },
  {
   "metadata": {},
   "cell_type": "code",
   "source": [
    "avg_price_by_manufacturer = vehicles_df_no_outlier.groupby('manufacturer')['price'].mean().sort_values().reset_index()\n",
    "fig = px.bar(avg_price_by_manufacturer, x='manufacturer', y='price', title='Ford is the most popular yet has a higher average price. Ferrari is missing data')\n",
    "fig.show()\n",
    "fig.write_image('images/avg_price_by_manufacturer_no_outlier.png')"
   ],
   "outputs": [],
   "execution_count": null
  },
  {
   "metadata": {},
   "cell_type": "code",
   "source": [
    "avg_price_by_manufacturer = imputed_vehicle_df.groupby('manufacturer')['price'].mean().sort_values().reset_index()\n",
    "fig = px.bar(avg_price_by_manufacturer, x='manufacturer', y='price', title='With imputation Telsa takes the highest price')\n",
    "fig.show()\n",
    "fig.write_image('images/avg_price_by_manufacturer_imputed.png')"
   ],
   "outputs": [],
   "execution_count": null
  },
  {
   "metadata": {},
   "cell_type": "markdown",
   "source": "I have seen enough to conclude that our imputed data set is good enough to work with moving forward. I will still build models for each to determine the which is best."
  },
  {
   "metadata": {},
   "cell_type": "code",
   "source": [
    "# Let's do an average price by feature bar char\n",
    "category_columns_to_ignore = ['VIN', 'region', 'model', 'manufacturer', 'state', 'transmission']\n",
    "category_columns = list(filter(lambda field: field not in category_columns_to_ignore, list(vehicles_df_no_outlier.select_dtypes(include='object').columns)))\n",
    "fig = make_subplots(\n",
    "    rows=len(category_columns), cols=1,\n",
    "    subplot_titles=(\"Condition: New has the highest average price, typically better condition equals higher average price\",\n",
    "                    \"Cylinders: More cylinders means more power means higher average price\",\n",
    "                    \"Drive: 4 wheel drive is more expensive on average\",\n",
    "                    \"Fuel: Diesel is the most expensive on average\",\n",
    "                    \"Color: Has a negligible affect on average price\",\n",
    "                    \"Size: Full size vehicles are more expensive on average\",\n",
    "                    \"Title Status: Vehicles with liens are more expensive, likely because the lien needs to be paid off\",\n",
    "                    \"Type: Trucks, pickups and offroad vehicles are more expensive on average\",\n",
    "                    )\n",
    ")\n",
    "\n",
    "for i, field in enumerate(sorted(category_columns)):\n",
    "    no_outlier_counts = imputed_vehicle_df[field].value_counts()\n",
    "    avg_price_by_field = imputed_vehicle_df.groupby(field)['price'].mean().sort_values().reset_index()\n",
    "    bar_fig = go.Bar(x=avg_price_by_field[field], y=avg_price_by_field['price'])\n",
    "    fig.add_trace(bar_fig, row=i+1, col=1)\n",
    "\n",
    "fig.update_layout(height=1400, width=1400, showlegend=False)\n",
    "fig.show()\n",
    "fig.write_image(\"images/average_price_by_field.png\")"
   ],
   "outputs": [],
   "execution_count": null
  },
  {
   "metadata": {},
   "cell_type": "code",
   "source": [
    "# Correlation plots\n",
    "corr_matrix = imputed_vehicle_df[['price', 'year', 'odometer']].corr(numeric_only=True).round(2)\n",
    "fig = px.imshow(corr_matrix, title='Newer cars are priced higher, mileage is negatively correlated with year and price',\n",
    "          color_continuous_scale='RdBu_r', aspect='auto')\n",
    "fig.show()\n",
    "fig.write_image('images/correlation.png')"
   ],
   "outputs": [],
   "execution_count": null
  },
  {
   "metadata": {},
   "cell_type": "markdown",
   "source": "This correlation gave me the idea to add the feature below. Average miles per year."
  },
  {
   "metadata": {},
   "cell_type": "code",
   "source": [
    "current_year = 2025\n",
    "vehicles_df_no_outlier['age'] = current_year - vehicles_df_no_outlier['year']\n",
    "imputed_vehicle_df['age'] = current_year - imputed_vehicle_df['year']\n",
    "vehicles_df_no_outlier['avg_miles_per_year'] = vehicles_df_no_outlier['odometer'] / vehicles_df_no_outlier['age']\n",
    "imputed_vehicle_df['avg_miles_per_year'] = vehicles_df_no_outlier['odometer'] / vehicles_df_no_outlier['age']"
   ],
   "outputs": [],
   "execution_count": null
  },
  {
   "metadata": {},
   "cell_type": "code",
   "source": [
    "fig = px.histogram(imputed_vehicle_df, x='avg_miles_per_year', labels={'avg_miles_per_year': 'Avg miles per year', 'count': 'Count'}, title='Average miles per year follows a normal distribution but we have outliers')\n",
    "fig.show()\n",
    "fig.write_image('images/avg_miles_per_year_histogram.png')"
   ],
   "outputs": [],
   "execution_count": null
  },
  {
   "metadata": {},
   "cell_type": "code",
   "source": [
    "fig = px.box(imputed_vehicle_df, x='avg_miles_per_year', labels={'avg_miles_per_year': 'Avg miles per year'}, title='Most vehicles are adding 5k-10k miles a year')\n",
    "fig.show()\n",
    "fig.write_image('images/avg_miles_per_year_box.png')"
   ],
   "outputs": [],
   "execution_count": null
  },
  {
   "metadata": {},
   "cell_type": "code",
   "source": [
    "fig = px.bar(imputed_vehicle_df.groupby('age')['price'].mean().sort_values().reset_index(), y='price', x='age', title='Price decreases as age increases', labels={'price': 'Price', 'age': 'Age'})\n",
    "fig.show()\n",
    "fig.write_image('images/average_price_by_age.png')"
   ],
   "outputs": [],
   "execution_count": null
  },
  {
   "metadata": {},
   "cell_type": "code",
   "source": [
    "# Correlation plots\n",
    "corr_matrix = imputed_vehicle_df[['price', 'year', 'odometer', 'avg_miles_per_year', 'age']].corr(numeric_only=True).round(2)\n",
    "fig = px.imshow(corr_matrix, title='Avg miles per year shows no correlation with price. Indicating non-linear relationship',\n",
    "          color_continuous_scale='RdBu_r', aspect='auto')\n",
    "fig.show()\n",
    "fig.write_image('images/correlation_new_features.png')"
   ],
   "outputs": [],
   "execution_count": null
  },
  {
   "metadata": {},
   "cell_type": "markdown",
   "source": [
    "### Data Preparation\n",
    "\n",
    "After our initial exploration and fine-tuning of the business understanding, it is time to construct our final dataset prior to modeling.  Here, we want to make sure to handle any integrity issues and cleaning, the engineering of new features, any transformations that we believe should happen (scaling, logarithms, normalization, etc.), and general preparation for modeling with `sklearn`."
   ]
  },
  {
   "metadata": {},
   "cell_type": "markdown",
   "source": "In the data understanding section, I imputed data, removed outliers and added new features as part. I will repeat the process."
  },
  {
   "metadata": {},
   "cell_type": "code",
   "source": [
    "# Reload dataset\n",
    "vehicles_df = pd.read_csv('data/vehicles.csv')"
   ],
   "outputs": [],
   "execution_count": null
  },
  {
   "metadata": {},
   "cell_type": "code",
   "source": [
    "# Drop columns (id, vin, region, model)\n",
    "vehicles_df.drop(['id', 'VIN', 'region', 'model'], axis=1)"
   ],
   "outputs": [],
   "execution_count": null
  },
  {
   "metadata": {},
   "cell_type": "code",
   "source": [
    "# Remove outliers\n",
    "q1 = vehicles_df['price'].quantile(0.25)\n",
    "q3 = vehicles_df['price'].quantile(0.75)\n",
    "iqr = q3 - q1\n",
    "lower_bound = q1 - (1.5 * iqr)\n",
    "upper_bound = q3 + (1.5 * iqr)\n",
    "vehicles_df = vehicles_df.query(f'price >= {lower_bound} and price <= {upper_bound} and year > 1995')"
   ],
   "outputs": [],
   "execution_count": null
  },
  {
   "metadata": {
    "ExecuteTime": {
     "end_time": "2025-06-21T21:11:48.413032Z",
     "start_time": "2025-06-21T21:09:29.027165Z"
    }
   },
   "cell_type": "code",
   "source": [
    "# impute data\n",
    "# predefine to avoid extra computation\n",
    "groupby_model_year = vehicles_df.groupby(['model', 'year'])\n",
    "fields_to_impute = ['condition', 'cylinders', 'drive', 'size', 'type', 'paint_color']\n",
    "\n",
    "# Impute once since it can be expensive\n",
    "def load_imputed_data_data_prep():\n",
    "    for field in fields_to_impute:\n",
    "        na_filter = vehicles_df[field].isna()\n",
    "        vehicles_df.loc[na_filter, field] = vehicles_df[na_filter].apply(lambda row: impute_field_by_model_year(row, field), axis=1)\n",
    "\n",
    "    return vehicles_df\n",
    "\n",
    "vehicles_df = load_imputed_data_data_prep()"
   ],
   "outputs": [],
   "execution_count": 204
  },
  {
   "metadata": {
    "ExecuteTime": {
     "end_time": "2025-06-21T21:13:21.754347Z",
     "start_time": "2025-06-21T21:13:21.639007Z"
    }
   },
   "cell_type": "code",
   "source": [
    "# Check impute change\n",
    "vehicles_df.isna().mean().round(2)"
   ],
   "outputs": [
    {
     "data": {
      "text/plain": [
       "id              0.00\n",
       "region          0.00\n",
       "price           0.00\n",
       "year            0.00\n",
       "manufacturer    0.04\n",
       "model           0.01\n",
       "condition       0.09\n",
       "cylinders       0.14\n",
       "fuel            0.01\n",
       "odometer        0.01\n",
       "title_status    0.02\n",
       "transmission    0.01\n",
       "VIN             0.38\n",
       "drive           0.10\n",
       "size            0.30\n",
       "type            0.05\n",
       "paint_color     0.08\n",
       "state           0.00\n",
       "dtype: float64"
      ]
     },
     "execution_count": 205,
     "metadata": {},
     "output_type": "execute_result"
    }
   ],
   "execution_count": 205
  },
  {
   "metadata": {},
   "cell_type": "code",
   "outputs": [],
   "execution_count": null,
   "source": [
    "# Add features\n",
    "current_year = 2025\n",
    "vehicles_df['age'] = current_year - vehicles_df['year']\n",
    "vehicles_df['avg_miles_per_year'] = vehicles_df['odometer'] / vehicles_df['age']"
   ]
  },
  {
   "metadata": {},
   "cell_type": "code",
   "outputs": [],
   "execution_count": 206,
   "source": [
    "# Drop duplicates and rows with NA\n",
    "vehicles_df = vehicles_df.drop_duplicates()\n",
    "vehicles_df = vehicles_df.dropna()"
   ]
  },
  {
   "metadata": {
    "ExecuteTime": {
     "end_time": "2025-06-21T21:13:59.150821Z",
     "start_time": "2025-06-21T21:13:59.146858Z"
    }
   },
   "cell_type": "code",
   "source": "vehicles_df.shape",
   "outputs": [
    {
     "data": {
      "text/plain": [
       "(152088, 18)"
      ]
     },
     "execution_count": 207,
     "metadata": {},
     "output_type": "execute_result"
    }
   ],
   "execution_count": 207
  },
  {
   "metadata": {},
   "cell_type": "markdown",
   "source": "I will let my pipeline do any transformations"
  },
  {
   "cell_type": "markdown",
   "metadata": {},
   "source": [
    "### Modeling\n",
    "\n",
    "With your (almost?) final dataset in hand, it is now time to build some models.  Here, you should build a number of different regression models with the price as the target.  In building your models, you should explore different parameters and be sure to cross-validate your findings."
   ]
  },
  {
   "cell_type": "code",
   "metadata": {},
   "source": "# LinearRegression",
   "outputs": [],
   "execution_count": null
  },
  {
   "cell_type": "code",
   "metadata": {},
   "source": "# Ridge",
   "outputs": [],
   "execution_count": null
  },
  {
   "cell_type": "code",
   "metadata": {},
   "source": "# Lasso",
   "outputs": [],
   "execution_count": null
  },
  {
   "cell_type": "code",
   "metadata": {},
   "source": [],
   "outputs": [],
   "execution_count": null
  },
  {
   "cell_type": "markdown",
   "metadata": {},
   "source": [
    "### Evaluation\n",
    "\n",
    "With some modeling accomplished, we aim to reflect on what we identify as a high-quality model and what we are able to learn from this.  We should review our business objective and explore how well we can provide meaningful insight into drivers of used car prices.  Your goal now is to distill your findings and determine whether the earlier phases need revisitation and adjustment or if you have information of value to bring back to your client."
   ]
  },
  {
   "cell_type": "code",
   "metadata": {},
   "source": [],
   "outputs": [],
   "execution_count": null
  },
  {
   "cell_type": "code",
   "metadata": {},
   "source": [],
   "outputs": [],
   "execution_count": null
  },
  {
   "cell_type": "code",
   "metadata": {},
   "source": [],
   "outputs": [],
   "execution_count": null
  },
  {
   "cell_type": "code",
   "metadata": {},
   "source": [],
   "outputs": [],
   "execution_count": null
  },
  {
   "cell_type": "code",
   "metadata": {},
   "source": [],
   "outputs": [],
   "execution_count": null
  },
  {
   "cell_type": "code",
   "metadata": {},
   "source": [],
   "outputs": [],
   "execution_count": null
  },
  {
   "cell_type": "markdown",
   "metadata": {},
   "source": [
    "### Deployment\n",
    "\n",
    "Now that we've settled on our models and findings, it is time to deliver the information to the client.  You should organize your work as a basic report that details your primary findings.  Keep in mind that your audience is a group of used car dealers interested in fine-tuning their inventory."
   ]
  },
  {
   "cell_type": "code",
   "metadata": {},
   "source": [],
   "outputs": [],
   "execution_count": null
  },
  {
   "cell_type": "code",
   "metadata": {},
   "source": [],
   "outputs": [],
   "execution_count": null
  },
  {
   "cell_type": "code",
   "metadata": {},
   "source": [],
   "outputs": [],
   "execution_count": null
  },
  {
   "cell_type": "code",
   "metadata": {},
   "source": [],
   "outputs": [],
   "execution_count": null
  },
  {
   "cell_type": "code",
   "metadata": {},
   "source": [],
   "outputs": [],
   "execution_count": null
  },
  {
   "cell_type": "code",
   "metadata": {},
   "source": [],
   "outputs": [],
   "execution_count": null
  },
  {
   "cell_type": "code",
   "metadata": {},
   "source": [],
   "outputs": [],
   "execution_count": null
  }
 ],
 "metadata": {
  "kernelspec": {
   "display_name": "mlai",
   "language": "python",
   "name": "mlai"
  },
  "language_info": {
   "codemirror_mode": {
    "name": "ipython",
    "version": 3
   },
   "file_extension": ".py",
   "mimetype": "text/x-python",
   "name": "python",
   "nbconvert_exporter": "python",
   "pygments_lexer": "ipython3",
   "version": "3.8.8"
  },
  "widgets": {
   "application/vnd.jupyter.widget-state+json": {
    "state": {},
    "version_major": 2,
    "version_minor": 0
   }
  }
 },
 "nbformat": 4,
 "nbformat_minor": 4
}
